{
 "cells": [
  {
   "cell_type": "code",
   "execution_count": 1,
   "metadata": {},
   "outputs": [],
   "source": [
    "#libs\n",
    "import os\n",
    "import random\n",
    "import numpy as np"
   ]
  },
  {
   "cell_type": "code",
   "execution_count": 2,
   "metadata": {
    "collapsed": true
   },
   "outputs": [],
   "source": [
    "with open ('./images/object-dataset/labels.csv', 'r') as f:\n",
    "    data = f.readlines()\n",
    "data = [item.split() for item in data]"
   ]
  },
  {
   "cell_type": "code",
   "execution_count": 3,
   "metadata": {},
   "outputs": [
    {
     "name": "stdout",
     "output_type": "stream",
     "text": [
      "There are 93086 annotations\n",
      "\n",
      "Printing information from Data Index: 46574\n",
      "['1478897592205422237.jpg', '890', '436', '924', '488', '0', '\"trafficLight\"']\n",
      "FRAME = 1478897592205422237.jpg\n",
      "BBOX = ['890', '436', '924', '488']\n",
      "OCCLUDED = 0\n",
      "LABEL = \"trafficLight\"\n"
     ]
    }
   ],
   "source": [
    "index=random.randrange(0, len(data))\n",
    "#\n",
    "# Taken from https://github.com/udacity/self-driving-car/tree/master/annotations\n",
    "#\n",
    "print('There are {} annotations\\n'.format(len(data)))\n",
    "print('Printing information from Data Index: {}'.format(index))\n",
    "print(data[index])\n",
    "print('FRAME = {}'.format(data[index][0]))\n",
    "print('BBOX = {}'.format(data[index][1:5]))\n",
    "print('OCCLUDED = {}'.format(data[index][5]))  #1 = true & 0= false \n",
    "print('LABEL = {}'.format(data[index][6]))"
   ]
  },
  {
   "cell_type": "code",
   "execution_count": 4,
   "metadata": {},
   "outputs": [],
   "source": [
    "num_cars = 0\n",
    "num_trucks = 0\n",
    "num_pedestrian = 0\n",
    "for index in range(0,len(data)):\n",
    "    label = str(data[index][6])\n",
    "    if '\"car\"' in label: num_cars = num_cars + 1\n",
    "    if '\"truck\"' in label: num_trucks = num_trucks + 1    \n",
    "    if '\"pedestrian\"' in label: num_pedestrian = num_pedestrian + 1"
   ]
  },
  {
   "cell_type": "code",
   "execution_count": 5,
   "metadata": {},
   "outputs": [
    {
     "data": {
      "text/plain": [
       "60788"
      ]
     },
     "execution_count": 5,
     "metadata": {},
     "output_type": "execute_result"
    }
   ],
   "source": [
    "num_cars"
   ]
  },
  {
   "cell_type": "code",
   "execution_count": 6,
   "metadata": {},
   "outputs": [
    {
     "data": {
      "text/plain": [
       "3503"
      ]
     },
     "execution_count": 6,
     "metadata": {},
     "output_type": "execute_result"
    }
   ],
   "source": [
    "num_trucks"
   ]
  },
  {
   "cell_type": "code",
   "execution_count": 7,
   "metadata": {},
   "outputs": [
    {
     "data": {
      "text/plain": [
       "9866"
      ]
     },
     "execution_count": 7,
     "metadata": {},
     "output_type": "execute_result"
    }
   ],
   "source": [
    "num_pedestrian"
   ]
  }
 ],
 "metadata": {
  "kernelspec": {
   "display_name": "Python 3",
   "language": "python",
   "name": "python3"
  },
  "language_info": {
   "codemirror_mode": {
    "name": "ipython",
    "version": 3
   },
   "file_extension": ".py",
   "mimetype": "text/x-python",
   "name": "python",
   "nbconvert_exporter": "python",
   "pygments_lexer": "ipython3",
   "version": "3.5.2"
  },
  "widgets": {
   "state": {},
   "version": "1.1.2"
  }
 },
 "nbformat": 4,
 "nbformat_minor": 2
}
